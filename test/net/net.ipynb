{
 "cells": [
  {
   "cell_type": "code",
   "execution_count": null,
   "metadata": {},
   "outputs": [],
   "source": [
    "from scapy.all import *\n",
    "from scapy.all import (\n",
    "    TunTapInterface,\n",
    "    Ether,\n",
    "    ARP,\n",
    "    IP,\n",
    "    UDP,\n",
    "    TCP,\n",
    "    ICMP,\n",
    ")\n",
    "\n",
    "from net import *"
   ]
  },
  {
   "cell_type": "code",
   "execution_count": null,
   "metadata": {},
   "outputs": [],
   "source": [
    "tap = get_tap(1)"
   ]
  },
  {
   "cell_type": "code",
   "execution_count": null,
   "metadata": {},
   "outputs": [],
   "source": [
    "gmac = get_gmac(tap)\n",
    "gmac"
   ]
  },
  {
   "cell_type": "code",
   "execution_count": null,
   "metadata": {},
   "outputs": [],
   "source": [
    "pkt = Ether(src=bmac, dst=gmac)\n",
    "pkt /= IP(src=baddr, dst=\"8.8.8.8\")\n",
    "pkt /= ICMP(type=8, id=2, seq=1)\n",
    "tap.send(pkt)"
   ]
  },
  {
   "cell_type": "code",
   "execution_count": null,
   "metadata": {},
   "outputs": [],
   "source": [
    "def filter(pkt):\n",
    "    print(pkt)\n",
    "    return True\n",
    "\n",
    "tap.sniff(store=False, stop_filter=filter)"
   ]
  }
 ],
 "metadata": {
  "kernelspec": {
   "display_name": "Python 3",
   "language": "python",
   "name": "python3"
  },
  "language_info": {
   "codemirror_mode": {
    "name": "ipython",
    "version": 3
   },
   "file_extension": ".py",
   "mimetype": "text/x-python",
   "name": "python",
   "nbconvert_exporter": "python",
   "pygments_lexer": "ipython3",
   "version": "3.8.10"
  }
 },
 "nbformat": 4,
 "nbformat_minor": 2
}
