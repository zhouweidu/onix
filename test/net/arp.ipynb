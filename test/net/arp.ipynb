{
 "cells": [
  {
   "cell_type": "code",
   "execution_count": 1,
   "metadata": {},
   "outputs": [],
   "source": [
    "from scapy.all import *\n",
    "from scapy.all import (\n",
    "    Ether,\n",
    "    ARP,\n",
    ")\n",
    "\n",
    "from net import (\n",
    "    get_tap,\n",
    "    rmac,\n",
    "    raddr,\n",
    "    broadcast,\n",
    "    laddr,\n",
    "    lmac,\n",
    ")"
   ]
  },
  {
   "cell_type": "code",
   "execution_count": 2,
   "metadata": {},
   "outputs": [],
   "source": [
    "tap = get_tap(1)"
   ]
  },
  {
   "cell_type": "code",
   "execution_count": 4,
   "metadata": {},
   "outputs": [
    {
     "data": {
      "text/plain": [
       "42"
      ]
     },
     "execution_count": 4,
     "metadata": {},
     "output_type": "execute_result"
    }
   ],
   "source": [
    "# 测试 ARP Request\n",
    "\n",
    "pkt = Ether(src=rmac, dst=broadcast)\n",
    "pkt /= ARP(\n",
    "    pdst=laddr,\n",
    "    hwsrc=rmac,\n",
    "    psrc=raddr,\n",
    "    op=1, # request\n",
    ")\n",
    "tap.send(pkt)"
   ]
  },
  {
   "cell_type": "code",
   "execution_count": 5,
   "metadata": {},
   "outputs": [
    {
     "data": {
      "text/plain": [
       "42"
      ]
     },
     "execution_count": 5,
     "metadata": {},
     "output_type": "execute_result"
    }
   ],
   "source": [
    "# 测试 ARP Reply\n",
    "\n",
    "pkt = Ether(src=rmac, dst=lmac)\n",
    "pkt /= ARP(\n",
    "    hwdst=lmac,\n",
    "    pdst=laddr,\n",
    "    hwsrc=rmac,\n",
    "    psrc=raddr,\n",
    "    op=2, # reply\n",
    ")\n",
    "tap.send(pkt)"
   ]
  }
 ],
 "metadata": {
  "kernelspec": {
   "display_name": "Python 3",
   "language": "python",
   "name": "python3"
  },
  "language_info": {
   "codemirror_mode": {
    "name": "ipython",
    "version": 3
   },
   "file_extension": ".py",
   "mimetype": "text/x-python",
   "name": "python",
   "nbconvert_exporter": "python",
   "pygments_lexer": "ipython3",
   "version": "3.8.10"
  }
 },
 "nbformat": 4,
 "nbformat_minor": 2
}
